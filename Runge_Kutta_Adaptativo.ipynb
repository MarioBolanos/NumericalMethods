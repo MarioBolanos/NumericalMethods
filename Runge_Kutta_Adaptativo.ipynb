{
  "nbformat": 4,
  "nbformat_minor": 0,
  "metadata": {
    "kernelspec": {
      "display_name": "Python 3",
      "language": "python",
      "name": "python3"
    },
    "language_info": {
      "codemirror_mode": {
        "name": "ipython",
        "version": 3
      },
      "file_extension": ".py",
      "mimetype": "text/x-python",
      "name": "python",
      "nbconvert_exporter": "python",
      "pygments_lexer": "ipython3",
      "version": "3.5.4"
    },
    "colab": {
      "name": "Runge-Kutta-Adaptativo.ipynb",
      "provenance": [],
      "include_colab_link": true
    }
  },
  "cells": [
    {
      "cell_type": "markdown",
      "metadata": {
        "id": "view-in-github",
        "colab_type": "text"
      },
      "source": [
        "<a href=\"https://colab.research.google.com/github/MarioBolanos/NumericalMethods/blob/main/Runge_Kutta_Adaptativo.ipynb\" target=\"_parent\"><img src=\"https://colab.research.google.com/assets/colab-badge.svg\" alt=\"Open In Colab\"/></a>"
      ]
    },
    {
      "cell_type": "markdown",
      "metadata": {
        "id": "aRtVnsEcn06s"
      },
      "source": [
        "\n",
        "# Adaptive Runge-Kutta Methods\n",
        "\n",
        "___\n",
        "\n",
        "\n",
        "This module gives a brief introduction to the consept of \"adaptive step size methods\" and \"embedded Runge-Kutta pairs\" for solving ordinary differential equations (ODEs). We are going to solve first-order ODE of the form\n",
        "\n",
        "$$\n",
        "\\frac{\\text{d}}{\\text{d}t}y(t) = f(y(t), t).\n",
        "$$\n",
        "\n",
        "It is convenient to consider the parameter $t$ as \"time\" and $y$ as \"position\" at time $t$. The consept of adaptive step size is easily generalized to e.g. higher order ODEs, much in the same way as the less sophisticated Explicit Euler Method can be generalized to the (Fourth Order) Runge-Kutta Method.\n",
        "\n",
        "### Basic idea of Adaptive Runge-Kutta Methods\n",
        "An adaptive Runge-Kutta method is a method that uses two different orders of approximation (often one with order $p$ and one with order $p+1$) to get an estimate of the local truncation error. Thus, it is possible to more or less decide what accuracy we want the solution to have by changing the step size for each iteration. Another advantage of the adaptive step size methods is that we can have more steps where it is needed, and fewer steps elsewhere (an example will follow). However, as is evident, these methods often require more calculations.\n",
        "\n",
        "By following this idea, we can easily develop pairs of Runge-Kutta (RK) methods (one with order $p$ and one with order $p+1$) that share several of the necessary calculations. This enables us to estimate the local truncation error almost without extra computations. Such pairs are called $\\textbf{embedded Runge-Kutta pairs}$.\n",
        "\n",
        "First, we import the necessary libraries and set some common figure parameters."
      ]
    },
    {
      "cell_type": "code",
      "metadata": {
        "id": "gq9clUMjn06t"
      },
      "source": [
        "# Import libraries\n",
        "import numpy as np\n",
        "import matplotlib.pyplot as plt\n",
        "import time\n",
        "%matplotlib inline\n",
        "\n",
        "# Set common figure parameters\n",
        "newparams = {'figure.figsize': (10, 4), 'axes.grid': True,\n",
        "             'lines.linewidth': 1.5, 'lines.markersize': 10,\n",
        "             'font.size': 14}\n",
        "plt.rcParams.update(newparams)"
      ],
      "execution_count": null,
      "outputs": []
    },
    {
      "cell_type": "markdown",
      "metadata": {
        "id": "TXHtpmtGn060"
      },
      "source": [
        "### Implement functions\n",
        "\n",
        "It is time to define some functions that are going to calculate two different orders of approximation for the right hand side (RHS) of the ODE, namely $f(y(t),t)$. The following functions are some examples of adaptive Runge-Kutta methods. An algorithm for deriving these methods are given in [2]."
      ]
    },
    {
      "cell_type": "code",
      "metadata": {
        "id": "2_LJwoaHn061"
      },
      "source": [
        "def odesolver12(f, t, y, h):\n",
        "    \"\"\"Calculate the next step of an initial value problem (IVP) of\n",
        "    an ODE with a RHS described by f, with an order 1 approx.\n",
        "    (Eulers Method) and an order 2 approx. (Midpoint Rule). This is \n",
        "    the simplest embedded RK pair.\n",
        "    Parameters:\n",
        "        f: function. RHS of ODE.\n",
        "        t: float. Current time.\n",
        "        y: float. Current position.\n",
        "        h: float. Step length.\n",
        "    Returns:\n",
        "        q: float. Order 1 approx.\n",
        "        w: float. Order 2 approx.\n",
        "    \"\"\"\n",
        "    s1 = f(t, y)\n",
        "    s2 = f(t+h, y+h*s1)\n",
        "    w = y + h*s1\n",
        "    q = y + h/2.0*(s1+s2)\n",
        "    return w, q\n",
        "\n",
        "def odesolver23(f, t, y, h):\n",
        "    \"\"\"Calculate the next step of an IVP of an ODE with a RHS\n",
        "    described by f, with an order 2 approx. (Explicit Trapezoid \n",
        "    Method) and an order 3 approx. (third order RK).\n",
        "    Parameters:\n",
        "        f: function. RHS of ODE.\n",
        "        t: float. Current time.\n",
        "        y: float. Current position.\n",
        "        h: float. Step length.\n",
        "    Returns:\n",
        "        q: float. Order 2 approx.\n",
        "        w: float. Order 3 approx.\n",
        "    \"\"\"\n",
        "    s1 = f(t, y)\n",
        "    s2 = f(t+h, y+h*s1)\n",
        "    s3 = f(t+h/2.0, y+h*(s1+s2)/4.0)\n",
        "    w = y + h*(s1+s2)/2.0\n",
        "    q = y + h*(s1+4.0*s3+s2)/6.0\n",
        "    return w, q\n",
        "\n",
        "def odesolver45(f, t, y, h):\n",
        "    \"\"\"Calculate the next step of an IVP of an ODE with a RHS\n",
        "    described by f, with an order 4 approx. and an order 5 approx.\n",
        "    Parameters:\n",
        "        f: function. RHS of ODE.\n",
        "        t: float. Current time.\n",
        "        y: float. Current position.\n",
        "        h: float. Step length.\n",
        "    Returns:\n",
        "        q: float. Order 2 approx.\n",
        "        w: float. Order 3 approx.\n",
        "    \"\"\"\n",
        "    s1 = f(t, y)\n",
        "    s2 = f(t+h/4.0, y+h*s1/4.0)\n",
        "    s3 = f(t+3.0*h/8.0, y+3.0*h*s1/32.0+9.0*h*s2/32.0)\n",
        "    s4 = f(t+12.0*h/13.0, y+1932.0*h*s1/2197.0-7200.0*h*s2/2197.0+7296.0*h*s3/2197.0)\n",
        "    s5 = f(t+h, y+439.0*h*s1/216.0-8.0*h*s2+3680.0*h*s3/513.0-845.0*h*s4/4104.0)\n",
        "    s6 = f(t+h/2.0, y-8.0*h*s1/27.0+2*h*s2-3544.0*h*s3/2565+1859.0*h*s4/4104.0-11.0*h*s5/40.0)\n",
        "    w = y + h*(25.0*s1/216.0+1408.0*s3/2565.0+2197.0*s4/4104.0-s5/5.0)\n",
        "    q = y + h*(16.0*s1/135.0+6656.0*s3/12825.0+28561.0*s4/56430.0-9.0*s5/50.0+2.0*s6/55.0)\n",
        "    return w, q"
      ],
      "execution_count": null,
      "outputs": []
    },
    {
      "cell_type": "markdown",
      "metadata": {
        "id": "wW6p6qpun066"
      },
      "source": [
        "### Decide adaptive stepsize\n",
        "\n",
        "In the above function definitions $w$ represents the lowest order approximation, and $q$ the higher order approximation. When $h$ is small, a good error estimate for $w$ is\n",
        "\n",
        "$$\n",
        "e_{i+1}\\approx \\left|q_{i+1}-w_ {i+1}\\right|.\n",
        "$$\n",
        "\n",
        "The idea is that one can perform one step of the computation and then check the error estimate $e_i$, or the relative error $e_i/\\left|w_i\\right|$. If the error is larger than a chosen tolerance, $TOL$, the stepsize is reduced by a predefined amount, often set to double or halve the step size. \n",
        "\n",
        "We always want to minimize our use of computational resources, but still be within the given tolerance. Thus, it would be a good idea to change the step size for the next step only if e.g. the error of the current step is smaller than $TOL/20$. There are however more sophisticated ways to change the step size. \n",
        "\n",
        "If we let the tolerance be given by the relative error, $TOL > e_i/\\left|w_i\\right|$, and assume that $w$ is of order $p$, the error is given by $e_i = \\mathcal{O}(h^{p+1})$. By assuming that\n",
        "\n",
        "$$\n",
        "e_i\\approx \\xi h_i^{p+1},\n",
        "$$\n",
        "\n",
        "for a constant $\\xi$, the step size that is closest to the tolerance is given by\n",
        "\n",
        "$$\n",
        "TOL\\cdot \\left|w_i\\right| = \\xi h^{p+1}.\n",
        "$$\n",
        "\n",
        "This yields\n",
        "\n",
        "$$\n",
        "\\tilde h = \\left(\\frac{TOL\\cdot |w_i|}{e_i}\\right)^{1/{p+1}}h_i,\n",
        "$$\n",
        "\n",
        "where $\\tilde h$ is the ideal value for the next step size. However, a safety factor is often added, such that the next step size becomes e.g. $h_{i+1}=0.8 \\cdot\\tilde h$. Moreover, we often use $e_i/\\max(w_i, \\theta)$ $(\\theta>0)$ instead of the relative error to protect againt small $w_i$.\n",
        "\n",
        "This algorithm for the step size variation is derived for $w_i$, the lowest order approximation. However, since the higher order approximation $q_i$ is available (without extra computation), this is often used to evaluate the next step.\n",
        "\n",
        "The simplest way to visualize the adaptive step size method is with examples.\n",
        "\n",
        "### Example 1\n",
        "First we choose the RHS of the ODE to be\n",
        "\n",
        "$$\n",
        "f(y(t),t) = t - 2ty,\n",
        "$$\n",
        "\n",
        "which has the analytical solution $\\frac{1}{2}(1-e^{-t^2})$. Let us define these functions and get on with solving the ODE using the simplest embedded RK method with an order 1 and an order 2 approximation. We generalize the implementation of the adaptive RK method so that we don't repeat ourselves."
      ]
    },
    {
      "cell_type": "code",
      "metadata": {
        "id": "CK4xsNbvn067"
      },
      "source": [
        "def RHS1(t, y):\n",
        "    return t - 2*t*y\n",
        "\n",
        "def analytical(t, y):\n",
        "    return 0.5*(1-np.exp(-t**2))\n",
        "\n",
        "def rk_adaptive(ode, rhs, y0=0.0, t0=0.0, TOL=1e-04, theta=1e-02, tmax=1.0):\n",
        "    \"\"\"Perform an adaptive RK method.\n",
        "    Parameters:\n",
        "        ode:   function. ODE solver.\n",
        "        rhs:   function. RHS of ODE.\n",
        "        y0:    float, optional. Initial position.\n",
        "        t0:    float, optional. Initial time.\n",
        "        TOL:   float, optional. Tolerance of relative error.\n",
        "        theta: float, optional. \"Protective\" constant.\n",
        "        tmax:  float, optional. End of calculation interval.\n",
        "    Returns:\n",
        "        y:     list. Position.\n",
        "        t:     list. Time.\n",
        "        i:     int. Number of iterations\n",
        "    \"\"\"\n",
        "    \n",
        "    # Allocate lists to store position and time and set\n",
        "    # initial conditions.\n",
        "    y = []\n",
        "    t = []\n",
        "    y.append(y0)\n",
        "    t.append(t0)\n",
        "    \n",
        "    # Set initial step size and declare iteration integer\n",
        "    h = 1.0\n",
        "    i = 0\n",
        "    \n",
        "    while (t[i] < tmax):\n",
        "        # Get two different approximations\n",
        "        w, q = ode(rhs, t[i], y[i], h)\n",
        "        # Estimate error\n",
        "        e = abs((w-q)/max(w, theta))\n",
        "        # If e larger thant TOL, decrease step length\n",
        "        if (e > TOL):\n",
        "            h = 0.8*(TOL*e)**(1/5)*h\n",
        "            # Get two new approximations\n",
        "            w, q = ode(rhs, t[i], y[i], h)\n",
        "            # Estimate new error\n",
        "            e = abs((w-q)/max(w, theta))\n",
        "            # If e still larger than TOL, halve step length until False\n",
        "            while (e > TOL):\n",
        "                h = h/2.0\n",
        "                # New approximations\n",
        "                w, q = ode(rhs, t[i], y[i], h)\n",
        "                # New error estimate\n",
        "                e = abs((w-q)/max(w, theta))\n",
        "        # Store highest order approximation as next y-value\n",
        "        y.append(q)\n",
        "        # Store current time + step size as next time\n",
        "        t.append(t[i] + h)\n",
        "        # Increment step number\n",
        "        i += 1\n",
        "        # Check if e is too small, if so, double step size\n",
        "        if (e < 0.1*TOL):\n",
        "            h = h*2.0\n",
        "    \n",
        "    return y, t, i"
      ],
      "execution_count": null,
      "outputs": []
    },
    {
      "cell_type": "code",
      "metadata": {
        "id": "hyYjzcSTn06-"
      },
      "source": [
        "# Calculate the position as a function of time using the adaptive\n",
        "# Runge-Kutta odesolver12 defined above\n",
        "pos, times, iterations = rk_adaptive(odesolver12, RHS1, y0=0.0, t0=0.0, TOL=1e-02, theta=1e-03, tmax=1.0)"
      ],
      "execution_count": null,
      "outputs": []
    },
    {
      "cell_type": "code",
      "metadata": {
        "id": "w9PcNlIin07B",
        "outputId": "80bec0f6-dcad-44be-a818-0a74ddc2f4a8"
      },
      "source": [
        "# Declare plot and plot results\n",
        "plt.figure()\n",
        "\n",
        "# Analytical plot\n",
        "ta = np.linspace(0, times[iterations])\n",
        "ya = analytical(ta, 0)\n",
        "plt.plot(ta, ya , label='Analytical solution.')\n",
        "\n",
        "# RK1/2 plot\n",
        "plt.plot(times, pos, '-o' , label='RK1/2. %i steps.' % (iterations+1))\n",
        "plt.ylabel(r'$y(t)$')\n",
        "plt.xlabel(r'$t$')\n",
        "plt.legend(loc=\"best\");"
      ],
      "execution_count": null,
      "outputs": [
        {
          "output_type": "display_data",
          "data": {
            "image/png": "[encoded data removed]",
            "text/plain": [
              "<matplotlib.figure.Figure at 0x7f431812a630>"
            ]
          },
          "metadata": {
            "tags": []
          }
        }
      ]
    },
    {
      "cell_type": "markdown",
      "metadata": {
        "collapsed": true,
        "id": "-zX_ve07n07F"
      },
      "source": [
        "We observe that the RK method uses 68 steps following the curve nicely, using an increasing step size $h$ as $t$ increases.\n",
        "### Example 2\n",
        "We now want to solve the IVP given by\n",
        "\n",
        "$$\n",
        "y'(t)=\\cos(y(t)\\cdot t^2),\\quad y(1)=3,\n",
        "$$\n",
        "\n",
        "trying out all three embedded RK pair functions defined above."
      ]
    },
    {
      "cell_type": "code",
      "metadata": {
        "id": "NsoWKoNln07G"
      },
      "source": [
        "def RHS2(t, y):\n",
        "    return np.cos(y*t**2)"
      ],
      "execution_count": null,
      "outputs": []
    },
    {
      "cell_type": "code",
      "metadata": {
        "id": "umYn0-gHn07K",
        "outputId": "8fb49219-7feb-45e4-e612-8c4bca506ef0"
      },
      "source": [
        "start12 = time.time()\n",
        "pos12, time12, iterations12 = rk_adaptive(odesolver12, RHS2, y0=3.0, t0=1.0, tmax=3.0)\n",
        "print(\"RK1/2 run time: %.5f s. Iterations: %i.\" % (time.time() - start12, iterations12 + 1))\n",
        "\n",
        "start23 = time.time()\n",
        "pos23, time23, iterations23 = rk_adaptive(odesolver23, RHS2, y0=3.0, t0=1.0, tmax=3.0)\n",
        "print(\"RK2/3 run time: %.5f s. Iterations: %i.\" % (time.time() - start23, iterations23 + 1))\n",
        "\n",
        "start45 = time.time()\n",
        "pos45, time45, iterations45 = rk_adaptive(odesolver45, RHS2, y0=3.0, t0=1.0, tmax=3.0)\n",
        "print(\"RK4/5 run time: %.5f s. Iterations: %i.\" % (time.time() - start45, iterations45 + 1))"
      ],
      "execution_count": null,
      "outputs": [
        {
          "output_type": "stream",
          "text": [
            "RK1/2 run time: 0.00265 s. Iterations: 453.\n",
            "RK2/3 run time: 0.00105 s. Iterations: 110.\n",
            "RK4/5 run time: 0.00048 s. Iterations: 20.\n"
          ],
          "name": "stdout"
        }
      ]
    },
    {
      "cell_type": "code",
      "metadata": {
        "id": "xJWC5YDNn07O",
        "outputId": "61850dd4-9520-44df-b8bf-b3132916300f"
      },
      "source": [
        "plt.figure()\n",
        "plt.plot(time12, pos12, '-o', label='RK1/2. %i steps.' % (iterations12+1))\n",
        "plt.plot(time23, pos23, '-o', label='RK2/3. %i steps.' % (iterations23+1))\n",
        "plt.plot(time45, pos45, '-o', label='RK4/5. %i steps.' % (iterations45+1))\n",
        "plt.ylabel(r'$y(t)$')\n",
        "plt.xlabel(r'$t$')\n",
        "plt.legend(loc=\"best\");"
      ],
      "execution_count": null,
      "outputs": [
        {
          "output_type": "display_data",
          "data": {
            "image/png": "[encoded data removed]",
            "text/plain": [
              "<matplotlib.figure.Figure at 0x7f4315f7a6a0>"
            ]
          },
          "metadata": {
            "tags": []
          }
        }
      ]
    },
    {
      "cell_type": "markdown",
      "metadata": {
        "id": "hPTeJnk3n07R"
      },
      "source": [
        "We observe that the RK4/5 method approximates the function values equally as well as the RK1/2 method does in 433 fewer steps and approximately 1/5 of the time.\n",
        "\n"
      ]
    }
  ]
}